{
  "cells": [
    {
      "cell_type": "markdown",
      "id": "b419134c",
      "metadata": {
        "id": "b419134c"
      },
      "source": [
        "## 5. Plotly pour des représentations interactives\n",
        "\n",
        "### 5.1 Utilisation de Plotly\n",
        "\n"
      ]
    },
    {
      "cell_type": "code",
      "execution_count": null,
      "id": "43b8e25f",
      "metadata": {
        "id": "43b8e25f",
        "tags": []
      },
      "outputs": [],
      "source": [
        "# imports\n",
        "import numpy as np\n",
        "import pandas as pd\n",
        "import plotly.express as px\n",
        "import matplotlib.pyplot as plt"
      ]
    },
    {
      "cell_type": "markdown",
      "id": "898b83de",
      "metadata": {
        "id": "898b83de"
      },
      "source": [
        "### Correspondances matplotlib / seaborn / plotly (extrait)\n",
        "\n",
        "matplotlib | seaborn | plotly\n",
        "- | - | -\n",
        "bar | barplot | bar\n",
        "pie | barplot | pie\n",
        " | stripplot | strip\n",
        "scatter | scatterplot | scatter\n",
        "boxplot | boxplot | box\n",
        "violinplot | violinplot | violin\n",
        "hist | displot | histogram\n",
        " | pairplot | scatter_matrix\n",
        " | joinplot | density_heatmap\n",
        " | FacetGrid | paramètres \"facet_row\" et \"facet_col\""
      ]
    },
    {
      "cell_type": "markdown",
      "id": "e1890e81",
      "metadata": {
        "id": "e1890e81"
      },
      "source": [
        "**Exemples inspirés du site de plotly**"
      ]
    },
    {
      "cell_type": "markdown",
      "id": "6b0e2f48",
      "metadata": {
        "id": "6b0e2f48"
      },
      "source": [
        "#### 3.2.1 bar"
      ]
    },
    {
      "cell_type": "code",
      "execution_count": null,
      "id": "2a2c5272",
      "metadata": {
        "id": "2a2c5272",
        "tags": []
      },
      "outputs": [],
      "source": [
        "# bar\n",
        "df = px.data.gapminder().query(\"country == 'France'\")\n",
        "px.bar(df, x='year', y='pop')"
      ]
    },
    {
      "cell_type": "markdown",
      "id": "3139172b",
      "metadata": {
        "id": "3139172b"
      },
      "source": [
        "#### 3.2.2 pie"
      ]
    },
    {
      "cell_type": "code",
      "execution_count": null,
      "id": "d4235f33",
      "metadata": {
        "id": "d4235f33",
        "tags": []
      },
      "outputs": [],
      "source": [
        "# pie\n",
        "df = px.data.gapminder().query(\"year == 2007\").query(\"continent == 'Europe'\")\n",
        "df.loc[df['pop'] < 5.0e6, 'country'] = 'Autres' # Represent only large countries\n",
        "px.pie(df, values='pop', names='country', title='Population du continent européen')"
      ]
    },
    {
      "cell_type": "markdown",
      "id": "3a91cb4b",
      "metadata": {
        "id": "3a91cb4b"
      },
      "source": [
        "#### 3.2.3 strip"
      ]
    },
    {
      "cell_type": "code",
      "execution_count": null,
      "id": "aa1d4766",
      "metadata": {
        "id": "aa1d4766",
        "tags": []
      },
      "outputs": [],
      "source": [
        "# strip\n",
        "df = px.data.tips()\n",
        "px.strip(df, x=\"total_bill\", y=\"day\")"
      ]
    },
    {
      "cell_type": "markdown",
      "id": "806b9600",
      "metadata": {
        "id": "806b9600"
      },
      "source": [
        "#### 3.2.4 scatter"
      ]
    },
    {
      "cell_type": "code",
      "execution_count": null,
      "id": "57d4b231",
      "metadata": {
        "id": "57d4b231",
        "tags": []
      },
      "outputs": [],
      "source": [
        "# scatter\n",
        "px.scatter(df, x=\"total_bill\", y=\"tip\", color=\"sex\")"
      ]
    },
    {
      "cell_type": "markdown",
      "id": "2cf4f016",
      "metadata": {
        "id": "2cf4f016"
      },
      "source": [
        "#### 3.2.5 box"
      ]
    },
    {
      "cell_type": "code",
      "execution_count": null,
      "id": "18536787",
      "metadata": {
        "id": "18536787",
        "tags": []
      },
      "outputs": [],
      "source": [
        "# box\n",
        "px.box(df, y=\"total_bill\")"
      ]
    },
    {
      "cell_type": "markdown",
      "id": "7816a32f",
      "metadata": {
        "id": "7816a32f"
      },
      "source": [
        "#### 3.2.6 violin"
      ]
    },
    {
      "cell_type": "code",
      "execution_count": null,
      "id": "d7bd68c8",
      "metadata": {
        "id": "d7bd68c8",
        "tags": []
      },
      "outputs": [],
      "source": [
        "# violin\n",
        "px.violin(df, y=\"total_bill\", color=\"sex\")"
      ]
    },
    {
      "cell_type": "markdown",
      "id": "33c3313e",
      "metadata": {
        "id": "33c3313e"
      },
      "source": [
        "#### 3.2.7 histogram"
      ]
    },
    {
      "cell_type": "code",
      "execution_count": null,
      "id": "afa2d341",
      "metadata": {
        "id": "afa2d341",
        "tags": []
      },
      "outputs": [],
      "source": [
        "# histogram\n",
        "px.histogram(df, x=\"total_bill\", nbins=10)"
      ]
    },
    {
      "cell_type": "markdown",
      "id": "d4099614",
      "metadata": {
        "id": "d4099614"
      },
      "source": [
        "#### 3.2.8 scatter_matrix"
      ]
    },
    {
      "cell_type": "code",
      "execution_count": null,
      "id": "f7b5fb73",
      "metadata": {
        "id": "f7b5fb73",
        "tags": []
      },
      "outputs": [],
      "source": [
        "# scatter_matrix\n",
        "px.scatter_matrix(df)"
      ]
    },
    {
      "cell_type": "markdown",
      "id": "f7ded4a6",
      "metadata": {
        "id": "f7ded4a6"
      },
      "source": [
        "#### 3.2.9 density_heatmap"
      ]
    },
    {
      "cell_type": "code",
      "execution_count": null,
      "id": "a3427bcf",
      "metadata": {
        "id": "a3427bcf",
        "tags": []
      },
      "outputs": [],
      "source": [
        "# density_heatmap\n",
        "px.density_heatmap(df, x=\"total_bill\", y=\"tip\", marginal_x=\"histogram\", marginal_y=\"histogram\")"
      ]
    },
    {
      "cell_type": "markdown",
      "id": "166853c7",
      "metadata": {
        "id": "166853c7"
      },
      "source": [
        "#### 3.2.10 facet"
      ]
    },
    {
      "cell_type": "code",
      "execution_count": null,
      "id": "1efccb96",
      "metadata": {
        "id": "1efccb96",
        "tags": []
      },
      "outputs": [],
      "source": [
        "# grid + histogram\n",
        "px.histogram(df, x=\"total_bill\", facet_row=\"day\", facet_col=\"sex\")"
      ]
    },
    {
      "cell_type": "code",
      "execution_count": null,
      "id": "67d16e3c",
      "metadata": {
        "id": "67d16e3c",
        "tags": []
      },
      "outputs": [],
      "source": [
        "# grid + scatter\n",
        "px.scatter(df, x=\"total_bill\", y=\"tip\", facet_row=\"day\", facet_col=\"sex\")"
      ]
    },
    {
      "cell_type": "markdown",
      "id": "c77f61d2",
      "metadata": {
        "id": "c77f61d2"
      },
      "source": [
        "<div class=\"alert alert-success\">\n",
        "    <h3><i class=\"fa fa-edit\"></i>  Exercice</h3>\n",
        "    <ul>\n",
        "        <li>AFficher des graphiques sur le dataset Iris\n",
        "    </ul>\n",
        "</div>"
      ]
    },
    {
      "cell_type": "code",
      "execution_count": null,
      "id": "45884d30",
      "metadata": {
        "id": "45884d30",
        "tags": []
      },
      "outputs": [],
      "source": [
        "\n",
        "import plotly.express as px\n",
        "\n",
        "df = px.data.iris()"
      ]
    },
    {
      "cell_type": "code",
      "source": [
        "# Afficher en 3D les points du dataset\n",
        "_\n",
        "fig.show()"
      ],
      "metadata": {
        "id": "5TAjwKQP-U7D"
      },
      "id": "5TAjwKQP-U7D",
      "execution_count": null,
      "outputs": []
    },
    {
      "cell_type": "markdown",
      "id": "7e4e4f99",
      "metadata": {
        "id": "7e4e4f99"
      },
      "source": [
        "### 3.3 treemap et sunburst\n",
        "\n",
        "Une treemap (resp. sunburst) ou carte proportionnelle est une représentation rectangulaire (resp. circulaire) de données hiérarchiques dans un espace limité."
      ]
    },
    {
      "cell_type": "code",
      "execution_count": null,
      "id": "962ebf34",
      "metadata": {
        "id": "962ebf34",
        "tags": []
      },
      "outputs": [],
      "source": [
        "# dataset\n",
        "fortune = pd.read_csv(\"data\\Fortune_1000.csv\", na_values=\"-\")\n",
        "fortune = fortune.fillna(0)\n",
        "fortune.head()"
      ]
    },
    {
      "cell_type": "code",
      "execution_count": null,
      "id": "47ab64f5",
      "metadata": {
        "id": "47ab64f5",
        "tags": []
      },
      "outputs": [],
      "source": [
        "# treemap\n",
        "_"
      ]
    },
    {
      "cell_type": "code",
      "execution_count": null,
      "id": "79feceac",
      "metadata": {
        "id": "79feceac",
        "tags": []
      },
      "outputs": [],
      "source": [
        "# on limite aux 4 première capitalisations par secteur\n",
        "# 1. Utiliser une fonction groupby sur le dataframe en appliquant la fonction nlargest\n",
        "fortune2 = _\n",
        "\n",
        "# sunburst\n",
        "_"
      ]
    },
    {
      "cell_type": "code",
      "execution_count": null,
      "id": "wQF9OyOfU7wb",
      "metadata": {
        "id": "wQF9OyOfU7wb"
      },
      "outputs": [],
      "source": []
    },
    {
      "cell_type": "markdown",
      "id": "j85YyX8SVDk4",
      "metadata": {
        "id": "j85YyX8SVDk4"
      },
      "source": [
        "# Cartes choroplèthes"
      ]
    },
    {
      "cell_type": "code",
      "execution_count": null,
      "id": "b3b56b35",
      "metadata": {
        "id": "b3b56b35"
      },
      "outputs": [],
      "source": [
        "import plotly\n",
        "\n",
        "# import plotly.express module\n",
        "import plotly.express as px\n",
        "\n",
        "# creer une carte avec les états usa\n",
        "_\n",
        "\n",
        "fig.show()"
      ]
    },
    {
      "cell_type": "markdown",
      "source": [
        "Création de sous menu"
      ],
      "metadata": {
        "id": "i6SDjfwF_KFC"
      },
      "id": "i6SDjfwF_KFC"
    },
    {
      "cell_type": "code",
      "source": [
        "import plotly.graph_objects as px\n",
        "import numpy as np\n",
        "# creating random data through randomint\n",
        "# function of numpy.random\n",
        "np.random.seed(42)\n",
        "\n",
        "# Data to be Plotted\n",
        "random_x = np.random.randint(1, 101, 100)\n",
        "random_y = np.random.randint(1, 101, 100)\n",
        "\n",
        "plot = px.Figure(data=[px.Scatter(\n",
        "    x=random_x,\n",
        "    y=random_y,\n",
        "    mode='markers',)\n",
        "])\n",
        "\n",
        "# Add dropdown\n",
        "plot.update_layout(\n",
        "    updatemenus=[\n",
        "        dict(\n",
        "            buttons=list([\n",
        "                dict(\n",
        "                    args=[\"type\", \"scatter\"],\n",
        "                    label=\"Scatter Plot\",\n",
        "                    method=\"restyle\"\n",
        "                ),\n",
        "                dict(\n",
        "                    args=[\"type\", \"bar\"],\n",
        "                    label=\"Bar Chart\",\n",
        "                    method=\"restyle\"\n",
        "                )\n",
        "            ]),\n",
        "            direction=\"down\",\n",
        "        ),\n",
        "    ]\n",
        ")\n",
        "\n",
        "plot.show()"
      ],
      "metadata": {
        "id": "jLoyPrep-1Kb"
      },
      "id": "jLoyPrep-1Kb",
      "execution_count": null,
      "outputs": []
    },
    {
      "cell_type": "markdown",
      "id": "95faab0a",
      "metadata": {
        "id": "95faab0a"
      },
      "source": [
        "<div class=\"alert alert-info\">\n",
        "    <h3><i class=\"fa fa-info-circle\"></i> Documentation</h3>\n",
        "    <p><a href=\"https://plotly.com/python/plotly-express/\">Plotly Express</a></p>\n",
        "    <p><a href=\"https://plotly.com/python/builtin-colorscales/\">Built-in Continuous Color Scales</a></p>\n",
        "    <p><a href=\"https://plotly.com/python/mapbox-layers/\">Mapbox Map Layers</a></p>\n",
        "</div>"
      ]
    }
  ],
  "metadata": {
    "colab": {
      "provenance": [],
      "toc_visible": true
    },
    "kernelspec": {
      "display_name": "Python 3 (ipykernel)",
      "language": "python",
      "name": "python3"
    },
    "language_info": {
      "codemirror_mode": {
        "name": "ipython",
        "version": 3
      },
      "file_extension": ".py",
      "mimetype": "text/x-python",
      "name": "python",
      "nbconvert_exporter": "python",
      "pygments_lexer": "ipython3",
      "version": "3.11.2"
    }
  },
  "nbformat": 4,
  "nbformat_minor": 5
}